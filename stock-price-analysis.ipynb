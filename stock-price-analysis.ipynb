{
 "cells": [
  {
   "cell_type": "code",
   "execution_count": 1,
   "id": "999ca110",
   "metadata": {
    "_cell_guid": "b1076dfc-b9ad-4769-8c92-a6c4dae69d19",
    "_uuid": "8f2839f25d086af736a60e9eeb907d3b93b6e0e5",
    "execution": {
     "iopub.execute_input": "2021-09-23T20:21:46.542763Z",
     "iopub.status.busy": "2021-09-23T20:21:46.542233Z",
     "iopub.status.idle": "2021-09-23T20:21:46.554404Z",
     "shell.execute_reply": "2021-09-23T20:21:46.553658Z",
     "shell.execute_reply.started": "2021-09-23T19:58:08.370838Z"
    },
    "papermill": {
     "duration": 0.045214,
     "end_time": "2021-09-23T20:21:46.554552",
     "exception": false,
     "start_time": "2021-09-23T20:21:46.509338",
     "status": "completed"
    },
    "tags": []
   },
   "outputs": [
    {
     "name": "stdout",
     "output_type": "stream",
     "text": [
      "/kaggle/input/stock-prices/stock prices.csv\n"
     ]
    }
   ],
   "source": [
    "import numpy as np # linear algebra\n",
    "import pandas as pd # data processing, CSV file I/O (e.g. pd.read_csv)\n",
    "import matplotlib.pyplot as plt\n",
    "import os\n",
    "for dirname, _, filenames in os.walk('/kaggle/input'):\n",
    "    for filename in filenames:\n",
    "        print(os.path.join(dirname, filename))"
   ]
  },
  {
   "cell_type": "code",
   "execution_count": 2,
   "id": "8e05601b",
   "metadata": {
    "execution": {
     "iopub.execute_input": "2021-09-23T20:21:46.604907Z",
     "iopub.status.busy": "2021-09-23T20:21:46.604355Z",
     "iopub.status.idle": "2021-09-23T20:21:47.333730Z",
     "shell.execute_reply": "2021-09-23T20:21:47.332773Z",
     "shell.execute_reply.started": "2021-09-23T19:58:08.38532Z"
    },
    "papermill": {
     "duration": 0.755776,
     "end_time": "2021-09-23T20:21:47.333921",
     "exception": false,
     "start_time": "2021-09-23T20:21:46.578145",
     "status": "completed"
    },
    "tags": []
   },
   "outputs": [],
   "source": [
    "stock_data = pd.read_csv(\"../input/stock-prices/stock prices.csv\")"
   ]
  },
  {
   "cell_type": "code",
   "execution_count": 3,
   "id": "ca68f7f4",
   "metadata": {
    "execution": {
     "iopub.execute_input": "2021-09-23T20:21:47.385624Z",
     "iopub.status.busy": "2021-09-23T20:21:47.381267Z",
     "iopub.status.idle": "2021-09-23T20:21:47.398255Z",
     "shell.execute_reply": "2021-09-23T20:21:47.398645Z",
     "shell.execute_reply.started": "2021-09-23T19:58:08.947771Z"
    },
    "papermill": {
     "duration": 0.041461,
     "end_time": "2021-09-23T20:21:47.398787",
     "exception": false,
     "start_time": "2021-09-23T20:21:47.357326",
     "status": "completed"
    },
    "tags": []
   },
   "outputs": [
    {
     "data": {
      "text/html": [
       "<div>\n",
       "<style scoped>\n",
       "    .dataframe tbody tr th:only-of-type {\n",
       "        vertical-align: middle;\n",
       "    }\n",
       "\n",
       "    .dataframe tbody tr th {\n",
       "        vertical-align: top;\n",
       "    }\n",
       "\n",
       "    .dataframe thead th {\n",
       "        text-align: right;\n",
       "    }\n",
       "</style>\n",
       "<table border=\"1\" class=\"dataframe\">\n",
       "  <thead>\n",
       "    <tr style=\"text-align: right;\">\n",
       "      <th></th>\n",
       "      <th>symbol</th>\n",
       "      <th>date</th>\n",
       "      <th>open</th>\n",
       "      <th>high</th>\n",
       "      <th>low</th>\n",
       "      <th>close</th>\n",
       "      <th>volume</th>\n",
       "    </tr>\n",
       "  </thead>\n",
       "  <tbody>\n",
       "    <tr>\n",
       "      <th>0</th>\n",
       "      <td>AAL</td>\n",
       "      <td>2014-01-02</td>\n",
       "      <td>25.0700</td>\n",
       "      <td>25.8200</td>\n",
       "      <td>25.0600</td>\n",
       "      <td>25.3600</td>\n",
       "      <td>8998943</td>\n",
       "    </tr>\n",
       "    <tr>\n",
       "      <th>1</th>\n",
       "      <td>AAPL</td>\n",
       "      <td>2014-01-02</td>\n",
       "      <td>79.3828</td>\n",
       "      <td>79.5756</td>\n",
       "      <td>78.8601</td>\n",
       "      <td>79.0185</td>\n",
       "      <td>58791957</td>\n",
       "    </tr>\n",
       "    <tr>\n",
       "      <th>2</th>\n",
       "      <td>AAP</td>\n",
       "      <td>2014-01-02</td>\n",
       "      <td>110.3600</td>\n",
       "      <td>111.8800</td>\n",
       "      <td>109.2900</td>\n",
       "      <td>109.7400</td>\n",
       "      <td>542711</td>\n",
       "    </tr>\n",
       "    <tr>\n",
       "      <th>3</th>\n",
       "      <td>ABBV</td>\n",
       "      <td>2014-01-02</td>\n",
       "      <td>52.1200</td>\n",
       "      <td>52.3300</td>\n",
       "      <td>51.5200</td>\n",
       "      <td>51.9800</td>\n",
       "      <td>4569061</td>\n",
       "    </tr>\n",
       "    <tr>\n",
       "      <th>4</th>\n",
       "      <td>ABC</td>\n",
       "      <td>2014-01-02</td>\n",
       "      <td>70.1100</td>\n",
       "      <td>70.2300</td>\n",
       "      <td>69.4800</td>\n",
       "      <td>69.8900</td>\n",
       "      <td>1148391</td>\n",
       "    </tr>\n",
       "  </tbody>\n",
       "</table>\n",
       "</div>"
      ],
      "text/plain": [
       "  symbol        date      open      high       low     close    volume\n",
       "0    AAL  2014-01-02   25.0700   25.8200   25.0600   25.3600   8998943\n",
       "1   AAPL  2014-01-02   79.3828   79.5756   78.8601   79.0185  58791957\n",
       "2    AAP  2014-01-02  110.3600  111.8800  109.2900  109.7400    542711\n",
       "3   ABBV  2014-01-02   52.1200   52.3300   51.5200   51.9800   4569061\n",
       "4    ABC  2014-01-02   70.1100   70.2300   69.4800   69.8900   1148391"
      ]
     },
     "execution_count": 3,
     "metadata": {},
     "output_type": "execute_result"
    }
   ],
   "source": [
    "stock_data.head()"
   ]
  },
  {
   "cell_type": "code",
   "execution_count": 4,
   "id": "b3620e6b",
   "metadata": {
    "execution": {
     "iopub.execute_input": "2021-09-23T20:21:47.448008Z",
     "iopub.status.busy": "2021-09-23T20:21:47.447192Z",
     "iopub.status.idle": "2021-09-23T20:21:47.450664Z",
     "shell.execute_reply": "2021-09-23T20:21:47.450266Z",
     "shell.execute_reply.started": "2021-09-23T19:58:08.964417Z"
    },
    "papermill": {
     "duration": 0.029667,
     "end_time": "2021-09-23T20:21:47.450775",
     "exception": false,
     "start_time": "2021-09-23T20:21:47.421108",
     "status": "completed"
    },
    "tags": []
   },
   "outputs": [
    {
     "data": {
      "text/plain": [
       "(497472, 7)"
      ]
     },
     "execution_count": 4,
     "metadata": {},
     "output_type": "execute_result"
    }
   ],
   "source": [
    "stock_data.shape"
   ]
  },
  {
   "cell_type": "markdown",
   "id": "5504988f",
   "metadata": {
    "papermill": {
     "duration": 0.021935,
     "end_time": "2021-09-23T20:21:47.495029",
     "exception": false,
     "start_time": "2021-09-23T20:21:47.473094",
     "status": "completed"
    },
    "tags": []
   },
   "source": [
    "# Data Cleaning"
   ]
  },
  {
   "cell_type": "code",
   "execution_count": 5,
   "id": "c8320d2d",
   "metadata": {
    "execution": {
     "iopub.execute_input": "2021-09-23T20:21:47.545177Z",
     "iopub.status.busy": "2021-09-23T20:21:47.544243Z",
     "iopub.status.idle": "2021-09-23T20:21:47.611222Z",
     "shell.execute_reply": "2021-09-23T20:21:47.611592Z",
     "shell.execute_reply.started": "2021-09-23T19:58:08.984381Z"
    },
    "papermill": {
     "duration": 0.094635,
     "end_time": "2021-09-23T20:21:47.611731",
     "exception": false,
     "start_time": "2021-09-23T20:21:47.517096",
     "status": "completed"
    },
    "tags": []
   },
   "outputs": [
    {
     "name": "stdout",
     "output_type": "stream",
     "text": [
      "<class 'pandas.core.frame.DataFrame'>\n",
      "RangeIndex: 497472 entries, 0 to 497471\n",
      "Data columns (total 7 columns):\n",
      " #   Column  Non-Null Count   Dtype  \n",
      "---  ------  --------------   -----  \n",
      " 0   symbol  497472 non-null  object \n",
      " 1   date    497472 non-null  object \n",
      " 2   open    497461 non-null  float64\n",
      " 3   high    497464 non-null  float64\n",
      " 4   low     497464 non-null  float64\n",
      " 5   close   497472 non-null  float64\n",
      " 6   volume  497472 non-null  int64  \n",
      "dtypes: float64(4), int64(1), object(2)\n",
      "memory usage: 26.6+ MB\n"
     ]
    }
   ],
   "source": [
    "stock_data.info()"
   ]
  },
  {
   "cell_type": "code",
   "execution_count": 6,
   "id": "e077f97c",
   "metadata": {
    "execution": {
     "iopub.execute_input": "2021-09-23T20:21:47.660293Z",
     "iopub.status.busy": "2021-09-23T20:21:47.659733Z",
     "iopub.status.idle": "2021-09-23T20:21:47.715459Z",
     "shell.execute_reply": "2021-09-23T20:21:47.715852Z",
     "shell.execute_reply.started": "2021-09-23T19:58:09.121995Z"
    },
    "papermill": {
     "duration": 0.08156,
     "end_time": "2021-09-23T20:21:47.715998",
     "exception": false,
     "start_time": "2021-09-23T20:21:47.634438",
     "status": "completed"
    },
    "tags": []
   },
   "outputs": [
    {
     "data": {
      "text/plain": [
       "symbol     0\n",
       "date       0\n",
       "open      11\n",
       "high       8\n",
       "low        8\n",
       "close      0\n",
       "volume     0\n",
       "dtype: int64"
      ]
     },
     "execution_count": 6,
     "metadata": {},
     "output_type": "execute_result"
    }
   ],
   "source": [
    "stock_data.isnull().sum()"
   ]
  },
  {
   "cell_type": "markdown",
   "id": "49b6e0d1",
   "metadata": {
    "papermill": {
     "duration": 0.023822,
     "end_time": "2021-09-23T20:21:47.762815",
     "exception": false,
     "start_time": "2021-09-23T20:21:47.738993",
     "status": "completed"
    },
    "tags": []
   },
   "source": [
    "**There are a few missing values in the open, high and low columns (all float64).**"
   ]
  },
  {
   "cell_type": "code",
   "execution_count": 7,
   "id": "84589f1a",
   "metadata": {
    "execution": {
     "iopub.execute_input": "2021-09-23T20:21:47.811352Z",
     "iopub.status.busy": "2021-09-23T20:21:47.810823Z",
     "iopub.status.idle": "2021-09-23T20:21:47.907356Z",
     "shell.execute_reply": "2021-09-23T20:21:47.908023Z",
     "shell.execute_reply.started": "2021-09-23T19:58:09.246406Z"
    },
    "papermill": {
     "duration": 0.122612,
     "end_time": "2021-09-23T20:21:47.908235",
     "exception": false,
     "start_time": "2021-09-23T20:21:47.785623",
     "status": "completed"
    },
    "tags": []
   },
   "outputs": [
    {
     "name": "stderr",
     "output_type": "stream",
     "text": [
      "/opt/conda/lib/python3.7/site-packages/ipykernel_launcher.py:1: FutureWarning: Dropping of nuisance columns in DataFrame reductions (with 'numeric_only=None') is deprecated; in a future version this will raise TypeError.  Select only valid columns before calling the reduction.\n",
      "  \"\"\"Entry point for launching an IPython kernel.\n"
     ]
    },
    {
     "data": {
      "text/plain": [
       "open       7.440827\n",
       "high       7.429748\n",
       "low        7.452458\n",
       "close      7.441782\n",
       "volume    10.322315\n",
       "dtype: float64"
      ]
     },
     "execution_count": 7,
     "metadata": {},
     "output_type": "execute_result"
    }
   ],
   "source": [
    "stock_data.skew()"
   ]
  },
  {
   "cell_type": "markdown",
   "id": "6e56d5fd",
   "metadata": {
    "papermill": {
     "duration": 0.023154,
     "end_time": "2021-09-23T20:21:47.956349",
     "exception": false,
     "start_time": "2021-09-23T20:21:47.933195",
     "status": "completed"
    },
    "tags": []
   },
   "source": [
    "**All the open, high and low columns are skewed so replacing the missing values with their respective medians would be a good choice but we don't need to impute the missing values. Some values may be missing because a stock wasn't part of the S&P 500 on that date.**"
   ]
  },
  {
   "cell_type": "markdown",
   "id": "cb237636",
   "metadata": {
    "papermill": {
     "duration": 0.023123,
     "end_time": "2021-09-23T20:21:48.002691",
     "exception": false,
     "start_time": "2021-09-23T20:21:47.979568",
     "status": "completed"
    },
    "tags": []
   },
   "source": [
    "# Data Visualization and Analysis"
   ]
  },
  {
   "cell_type": "markdown",
   "id": "09be0356",
   "metadata": {
    "papermill": {
     "duration": 0.023017,
     "end_time": "2021-09-23T20:21:48.049936",
     "exception": false,
     "start_time": "2021-09-23T20:21:48.026919",
     "status": "completed"
    },
    "tags": []
   },
   "source": [
    "**Question 1: Which date in the sample saw the largest overall trading volume? On that date, which two stocks were traded most?**"
   ]
  },
  {
   "cell_type": "code",
   "execution_count": 8,
   "id": "6c9b6f0a",
   "metadata": {
    "execution": {
     "iopub.execute_input": "2021-09-23T20:21:48.099543Z",
     "iopub.status.busy": "2021-09-23T20:21:48.098960Z",
     "iopub.status.idle": "2021-09-23T20:21:48.110997Z",
     "shell.execute_reply": "2021-09-23T20:21:48.110429Z",
     "shell.execute_reply.started": "2021-09-23T19:58:09.438506Z"
    },
    "papermill": {
     "duration": 0.037933,
     "end_time": "2021-09-23T20:21:48.111117",
     "exception": false,
     "start_time": "2021-09-23T20:21:48.073184",
     "status": "completed"
    },
    "tags": []
   },
   "outputs": [
    {
     "data": {
      "text/html": [
       "<div>\n",
       "<style scoped>\n",
       "    .dataframe tbody tr th:only-of-type {\n",
       "        vertical-align: middle;\n",
       "    }\n",
       "\n",
       "    .dataframe tbody tr th {\n",
       "        vertical-align: top;\n",
       "    }\n",
       "\n",
       "    .dataframe thead th {\n",
       "        text-align: right;\n",
       "    }\n",
       "</style>\n",
       "<table border=\"1\" class=\"dataframe\">\n",
       "  <thead>\n",
       "    <tr style=\"text-align: right;\">\n",
       "      <th></th>\n",
       "      <th>symbol</th>\n",
       "      <th>date</th>\n",
       "      <th>open</th>\n",
       "      <th>high</th>\n",
       "      <th>low</th>\n",
       "      <th>close</th>\n",
       "      <th>volume</th>\n",
       "    </tr>\n",
       "  </thead>\n",
       "  <tbody>\n",
       "    <tr>\n",
       "      <th>0</th>\n",
       "      <td>AAL</td>\n",
       "      <td>2014-01-02</td>\n",
       "      <td>25.0700</td>\n",
       "      <td>25.8200</td>\n",
       "      <td>25.0600</td>\n",
       "      <td>25.3600</td>\n",
       "      <td>8998943</td>\n",
       "    </tr>\n",
       "    <tr>\n",
       "      <th>1</th>\n",
       "      <td>AAPL</td>\n",
       "      <td>2014-01-02</td>\n",
       "      <td>79.3828</td>\n",
       "      <td>79.5756</td>\n",
       "      <td>78.8601</td>\n",
       "      <td>79.0185</td>\n",
       "      <td>58791957</td>\n",
       "    </tr>\n",
       "    <tr>\n",
       "      <th>2</th>\n",
       "      <td>AAP</td>\n",
       "      <td>2014-01-02</td>\n",
       "      <td>110.3600</td>\n",
       "      <td>111.8800</td>\n",
       "      <td>109.2900</td>\n",
       "      <td>109.7400</td>\n",
       "      <td>542711</td>\n",
       "    </tr>\n",
       "    <tr>\n",
       "      <th>3</th>\n",
       "      <td>ABBV</td>\n",
       "      <td>2014-01-02</td>\n",
       "      <td>52.1200</td>\n",
       "      <td>52.3300</td>\n",
       "      <td>51.5200</td>\n",
       "      <td>51.9800</td>\n",
       "      <td>4569061</td>\n",
       "    </tr>\n",
       "    <tr>\n",
       "      <th>4</th>\n",
       "      <td>ABC</td>\n",
       "      <td>2014-01-02</td>\n",
       "      <td>70.1100</td>\n",
       "      <td>70.2300</td>\n",
       "      <td>69.4800</td>\n",
       "      <td>69.8900</td>\n",
       "      <td>1148391</td>\n",
       "    </tr>\n",
       "  </tbody>\n",
       "</table>\n",
       "</div>"
      ],
      "text/plain": [
       "  symbol        date      open      high       low     close    volume\n",
       "0    AAL  2014-01-02   25.0700   25.8200   25.0600   25.3600   8998943\n",
       "1   AAPL  2014-01-02   79.3828   79.5756   78.8601   79.0185  58791957\n",
       "2    AAP  2014-01-02  110.3600  111.8800  109.2900  109.7400    542711\n",
       "3   ABBV  2014-01-02   52.1200   52.3300   51.5200   51.9800   4569061\n",
       "4    ABC  2014-01-02   70.1100   70.2300   69.4800   69.8900   1148391"
      ]
     },
     "execution_count": 8,
     "metadata": {},
     "output_type": "execute_result"
    }
   ],
   "source": [
    "stock_data.head()"
   ]
  },
  {
   "cell_type": "code",
   "execution_count": 9,
   "id": "77a2da92",
   "metadata": {
    "execution": {
     "iopub.execute_input": "2021-09-23T20:21:48.162166Z",
     "iopub.status.busy": "2021-09-23T20:21:48.161594Z",
     "iopub.status.idle": "2021-09-23T20:21:48.236152Z",
     "shell.execute_reply": "2021-09-23T20:21:48.235551Z",
     "shell.execute_reply.started": "2021-09-23T19:58:09.464856Z"
    },
    "papermill": {
     "duration": 0.101055,
     "end_time": "2021-09-23T20:21:48.236286",
     "exception": false,
     "start_time": "2021-09-23T20:21:48.135231",
     "status": "completed"
    },
    "tags": []
   },
   "outputs": [
    {
     "data": {
      "text/plain": [
       "date\n",
       "2015-08-24    4607945196\n",
       "Name: volume, dtype: int64"
      ]
     },
     "execution_count": 9,
     "metadata": {},
     "output_type": "execute_result"
    }
   ],
   "source": [
    "DateSum = stock_data.groupby('date').sum() # Finding overall sum of each date.\n",
    "\n",
    "# Checking which date has maximum volume.\n",
    "DateSum['volume'][[DateSum['volume'].idxmax()]]"
   ]
  },
  {
   "cell_type": "code",
   "execution_count": 10,
   "id": "09ff65ef",
   "metadata": {
    "execution": {
     "iopub.execute_input": "2021-09-23T20:21:48.288570Z",
     "iopub.status.busy": "2021-09-23T20:21:48.288038Z",
     "iopub.status.idle": "2021-09-23T20:21:48.335754Z",
     "shell.execute_reply": "2021-09-23T20:21:48.336190Z",
     "shell.execute_reply.started": "2021-09-23T19:58:09.540954Z"
    },
    "papermill": {
     "duration": 0.075281,
     "end_time": "2021-09-23T20:21:48.336344",
     "exception": false,
     "start_time": "2021-09-23T20:21:48.261063",
     "status": "completed"
    },
    "tags": []
   },
   "outputs": [
    {
     "data": {
      "text/html": [
       "<div>\n",
       "<style scoped>\n",
       "    .dataframe tbody tr th:only-of-type {\n",
       "        vertical-align: middle;\n",
       "    }\n",
       "\n",
       "    .dataframe tbody tr th {\n",
       "        vertical-align: top;\n",
       "    }\n",
       "\n",
       "    .dataframe thead th {\n",
       "        text-align: right;\n",
       "    }\n",
       "</style>\n",
       "<table border=\"1\" class=\"dataframe\">\n",
       "  <thead>\n",
       "    <tr style=\"text-align: right;\">\n",
       "      <th></th>\n",
       "      <th>symbol</th>\n",
       "      <th>date</th>\n",
       "      <th>open</th>\n",
       "      <th>high</th>\n",
       "      <th>low</th>\n",
       "      <th>close</th>\n",
       "      <th>volume</th>\n",
       "    </tr>\n",
       "  </thead>\n",
       "  <tbody>\n",
       "    <tr>\n",
       "      <th>201208</th>\n",
       "      <td>AAL</td>\n",
       "      <td>2015-08-24</td>\n",
       "      <td>36.00</td>\n",
       "      <td>39.8999</td>\n",
       "      <td>34.10</td>\n",
       "      <td>37.62</td>\n",
       "      <td>19612661</td>\n",
       "    </tr>\n",
       "    <tr>\n",
       "      <th>201209</th>\n",
       "      <td>AAPL</td>\n",
       "      <td>2015-08-24</td>\n",
       "      <td>94.87</td>\n",
       "      <td>108.8000</td>\n",
       "      <td>92.00</td>\n",
       "      <td>103.12</td>\n",
       "      <td>162206292</td>\n",
       "    </tr>\n",
       "    <tr>\n",
       "      <th>201210</th>\n",
       "      <td>AAP</td>\n",
       "      <td>2015-08-24</td>\n",
       "      <td>173.26</td>\n",
       "      <td>178.6950</td>\n",
       "      <td>151.30</td>\n",
       "      <td>173.75</td>\n",
       "      <td>1464478</td>\n",
       "    </tr>\n",
       "    <tr>\n",
       "      <th>201211</th>\n",
       "      <td>ABBV</td>\n",
       "      <td>2015-08-24</td>\n",
       "      <td>61.17</td>\n",
       "      <td>64.8500</td>\n",
       "      <td>53.87</td>\n",
       "      <td>63.45</td>\n",
       "      <td>24292618</td>\n",
       "    </tr>\n",
       "    <tr>\n",
       "      <th>201212</th>\n",
       "      <td>ABC</td>\n",
       "      <td>2015-08-24</td>\n",
       "      <td>93.00</td>\n",
       "      <td>100.8500</td>\n",
       "      <td>91.48</td>\n",
       "      <td>98.53</td>\n",
       "      <td>4569825</td>\n",
       "    </tr>\n",
       "    <tr>\n",
       "      <th>...</th>\n",
       "      <td>...</td>\n",
       "      <td>...</td>\n",
       "      <td>...</td>\n",
       "      <td>...</td>\n",
       "      <td>...</td>\n",
       "      <td>...</td>\n",
       "      <td>...</td>\n",
       "    </tr>\n",
       "    <tr>\n",
       "      <th>201695</th>\n",
       "      <td>XYL</td>\n",
       "      <td>2015-08-24</td>\n",
       "      <td>30.49</td>\n",
       "      <td>31.9200</td>\n",
       "      <td>29.90</td>\n",
       "      <td>30.91</td>\n",
       "      <td>2479069</td>\n",
       "    </tr>\n",
       "    <tr>\n",
       "      <th>201696</th>\n",
       "      <td>YUM</td>\n",
       "      <td>2015-08-24</td>\n",
       "      <td>73.89</td>\n",
       "      <td>78.9900</td>\n",
       "      <td>71.39</td>\n",
       "      <td>77.19</td>\n",
       "      <td>10431594</td>\n",
       "    </tr>\n",
       "    <tr>\n",
       "      <th>201697</th>\n",
       "      <td>ZBH</td>\n",
       "      <td>2015-08-24</td>\n",
       "      <td>101.11</td>\n",
       "      <td>102.0000</td>\n",
       "      <td>94.73</td>\n",
       "      <td>99.57</td>\n",
       "      <td>2782148</td>\n",
       "    </tr>\n",
       "    <tr>\n",
       "      <th>201698</th>\n",
       "      <td>ZION</td>\n",
       "      <td>2015-08-24</td>\n",
       "      <td>26.73</td>\n",
       "      <td>27.8600</td>\n",
       "      <td>26.42</td>\n",
       "      <td>26.93</td>\n",
       "      <td>5879152</td>\n",
       "    </tr>\n",
       "    <tr>\n",
       "      <th>201699</th>\n",
       "      <td>ZTS</td>\n",
       "      <td>2015-08-24</td>\n",
       "      <td>42.51</td>\n",
       "      <td>44.9700</td>\n",
       "      <td>37.73</td>\n",
       "      <td>43.53</td>\n",
       "      <td>5725519</td>\n",
       "    </tr>\n",
       "  </tbody>\n",
       "</table>\n",
       "<p>492 rows × 7 columns</p>\n",
       "</div>"
      ],
      "text/plain": [
       "       symbol        date    open      high     low   close     volume\n",
       "201208    AAL  2015-08-24   36.00   39.8999   34.10   37.62   19612661\n",
       "201209   AAPL  2015-08-24   94.87  108.8000   92.00  103.12  162206292\n",
       "201210    AAP  2015-08-24  173.26  178.6950  151.30  173.75    1464478\n",
       "201211   ABBV  2015-08-24   61.17   64.8500   53.87   63.45   24292618\n",
       "201212    ABC  2015-08-24   93.00  100.8500   91.48   98.53    4569825\n",
       "...       ...         ...     ...       ...     ...     ...        ...\n",
       "201695    XYL  2015-08-24   30.49   31.9200   29.90   30.91    2479069\n",
       "201696    YUM  2015-08-24   73.89   78.9900   71.39   77.19   10431594\n",
       "201697    ZBH  2015-08-24  101.11  102.0000   94.73   99.57    2782148\n",
       "201698   ZION  2015-08-24   26.73   27.8600   26.42   26.93    5879152\n",
       "201699    ZTS  2015-08-24   42.51   44.9700   37.73   43.53    5725519\n",
       "\n",
       "[492 rows x 7 columns]"
      ]
     },
     "execution_count": 10,
     "metadata": {},
     "output_type": "execute_result"
    }
   ],
   "source": [
    "HighestTraded = stock_data.loc[stock_data['date']=='2015-08-24']\n",
    "HighestTraded"
   ]
  },
  {
   "cell_type": "code",
   "execution_count": 11,
   "id": "bc4cd342",
   "metadata": {
    "execution": {
     "iopub.execute_input": "2021-09-23T20:21:48.389662Z",
     "iopub.status.busy": "2021-09-23T20:21:48.389154Z",
     "iopub.status.idle": "2021-09-23T20:21:48.402352Z",
     "shell.execute_reply": "2021-09-23T20:21:48.402727Z",
     "shell.execute_reply.started": "2021-09-23T19:58:09.641833Z"
    },
    "papermill": {
     "duration": 0.041896,
     "end_time": "2021-09-23T20:21:48.402874",
     "exception": false,
     "start_time": "2021-09-23T20:21:48.360978",
     "status": "completed"
    },
    "tags": []
   },
   "outputs": [
    {
     "data": {
      "text/html": [
       "<div>\n",
       "<style scoped>\n",
       "    .dataframe tbody tr th:only-of-type {\n",
       "        vertical-align: middle;\n",
       "    }\n",
       "\n",
       "    .dataframe tbody tr th {\n",
       "        vertical-align: top;\n",
       "    }\n",
       "\n",
       "    .dataframe thead th {\n",
       "        text-align: right;\n",
       "    }\n",
       "</style>\n",
       "<table border=\"1\" class=\"dataframe\">\n",
       "  <thead>\n",
       "    <tr style=\"text-align: right;\">\n",
       "      <th></th>\n",
       "      <th>open</th>\n",
       "      <th>high</th>\n",
       "      <th>low</th>\n",
       "      <th>close</th>\n",
       "      <th>volume</th>\n",
       "    </tr>\n",
       "    <tr>\n",
       "      <th>symbol</th>\n",
       "      <th></th>\n",
       "      <th></th>\n",
       "      <th></th>\n",
       "      <th></th>\n",
       "      <th></th>\n",
       "    </tr>\n",
       "  </thead>\n",
       "  <tbody>\n",
       "    <tr>\n",
       "      <th>A</th>\n",
       "      <td>33.87</td>\n",
       "      <td>36.0100</td>\n",
       "      <td>33.57</td>\n",
       "      <td>34.68</td>\n",
       "      <td>4114990</td>\n",
       "    </tr>\n",
       "    <tr>\n",
       "      <th>AAL</th>\n",
       "      <td>36.00</td>\n",
       "      <td>39.8999</td>\n",
       "      <td>34.10</td>\n",
       "      <td>37.62</td>\n",
       "      <td>19612661</td>\n",
       "    </tr>\n",
       "    <tr>\n",
       "      <th>AAP</th>\n",
       "      <td>173.26</td>\n",
       "      <td>178.6950</td>\n",
       "      <td>151.30</td>\n",
       "      <td>173.75</td>\n",
       "      <td>1464478</td>\n",
       "    </tr>\n",
       "    <tr>\n",
       "      <th>AAPL</th>\n",
       "      <td>94.87</td>\n",
       "      <td>108.8000</td>\n",
       "      <td>92.00</td>\n",
       "      <td>103.12</td>\n",
       "      <td>162206292</td>\n",
       "    </tr>\n",
       "    <tr>\n",
       "      <th>ABBV</th>\n",
       "      <td>61.17</td>\n",
       "      <td>64.8500</td>\n",
       "      <td>53.87</td>\n",
       "      <td>63.45</td>\n",
       "      <td>24292618</td>\n",
       "    </tr>\n",
       "    <tr>\n",
       "      <th>...</th>\n",
       "      <td>...</td>\n",
       "      <td>...</td>\n",
       "      <td>...</td>\n",
       "      <td>...</td>\n",
       "      <td>...</td>\n",
       "    </tr>\n",
       "    <tr>\n",
       "      <th>XYL</th>\n",
       "      <td>30.49</td>\n",
       "      <td>31.9200</td>\n",
       "      <td>29.90</td>\n",
       "      <td>30.91</td>\n",
       "      <td>2479069</td>\n",
       "    </tr>\n",
       "    <tr>\n",
       "      <th>YUM</th>\n",
       "      <td>73.89</td>\n",
       "      <td>78.9900</td>\n",
       "      <td>71.39</td>\n",
       "      <td>77.19</td>\n",
       "      <td>10431594</td>\n",
       "    </tr>\n",
       "    <tr>\n",
       "      <th>ZBH</th>\n",
       "      <td>101.11</td>\n",
       "      <td>102.0000</td>\n",
       "      <td>94.73</td>\n",
       "      <td>99.57</td>\n",
       "      <td>2782148</td>\n",
       "    </tr>\n",
       "    <tr>\n",
       "      <th>ZION</th>\n",
       "      <td>26.73</td>\n",
       "      <td>27.8600</td>\n",
       "      <td>26.42</td>\n",
       "      <td>26.93</td>\n",
       "      <td>5879152</td>\n",
       "    </tr>\n",
       "    <tr>\n",
       "      <th>ZTS</th>\n",
       "      <td>42.51</td>\n",
       "      <td>44.9700</td>\n",
       "      <td>37.73</td>\n",
       "      <td>43.53</td>\n",
       "      <td>5725519</td>\n",
       "    </tr>\n",
       "  </tbody>\n",
       "</table>\n",
       "<p>492 rows × 5 columns</p>\n",
       "</div>"
      ],
      "text/plain": [
       "          open      high     low   close     volume\n",
       "symbol                                             \n",
       "A        33.87   36.0100   33.57   34.68    4114990\n",
       "AAL      36.00   39.8999   34.10   37.62   19612661\n",
       "AAP     173.26  178.6950  151.30  173.75    1464478\n",
       "AAPL     94.87  108.8000   92.00  103.12  162206292\n",
       "ABBV     61.17   64.8500   53.87   63.45   24292618\n",
       "...        ...       ...     ...     ...        ...\n",
       "XYL      30.49   31.9200   29.90   30.91    2479069\n",
       "YUM      73.89   78.9900   71.39   77.19   10431594\n",
       "ZBH     101.11  102.0000   94.73   99.57    2782148\n",
       "ZION     26.73   27.8600   26.42   26.93    5879152\n",
       "ZTS      42.51   44.9700   37.73   43.53    5725519\n",
       "\n",
       "[492 rows x 5 columns]"
      ]
     },
     "execution_count": 11,
     "metadata": {},
     "output_type": "execute_result"
    }
   ],
   "source": [
    "SymbolSum = HighestTraded.groupby('symbol').sum()\n",
    "SymbolSum"
   ]
  },
  {
   "cell_type": "code",
   "execution_count": 12,
   "id": "f929e64b",
   "metadata": {
    "execution": {
     "iopub.execute_input": "2021-09-23T20:21:48.455542Z",
     "iopub.status.busy": "2021-09-23T20:21:48.454719Z",
     "iopub.status.idle": "2021-09-23T20:21:48.465332Z",
     "shell.execute_reply": "2021-09-23T20:21:48.465744Z",
     "shell.execute_reply.started": "2021-09-23T19:58:09.664604Z"
    },
    "papermill": {
     "duration": 0.038056,
     "end_time": "2021-09-23T20:21:48.465887",
     "exception": false,
     "start_time": "2021-09-23T20:21:48.427831",
     "status": "completed"
    },
    "tags": []
   },
   "outputs": [
    {
     "data": {
      "text/html": [
       "<div>\n",
       "<style scoped>\n",
       "    .dataframe tbody tr th:only-of-type {\n",
       "        vertical-align: middle;\n",
       "    }\n",
       "\n",
       "    .dataframe tbody tr th {\n",
       "        vertical-align: top;\n",
       "    }\n",
       "\n",
       "    .dataframe thead th {\n",
       "        text-align: right;\n",
       "    }\n",
       "</style>\n",
       "<table border=\"1\" class=\"dataframe\">\n",
       "  <thead>\n",
       "    <tr style=\"text-align: right;\">\n",
       "      <th></th>\n",
       "      <th>open</th>\n",
       "      <th>high</th>\n",
       "      <th>low</th>\n",
       "      <th>close</th>\n",
       "      <th>volume</th>\n",
       "    </tr>\n",
       "    <tr>\n",
       "      <th>symbol</th>\n",
       "      <th></th>\n",
       "      <th></th>\n",
       "      <th></th>\n",
       "      <th></th>\n",
       "      <th></th>\n",
       "    </tr>\n",
       "  </thead>\n",
       "  <tbody>\n",
       "    <tr>\n",
       "      <th>BAC</th>\n",
       "      <td>15.02</td>\n",
       "      <td>15.98</td>\n",
       "      <td>14.60</td>\n",
       "      <td>15.29</td>\n",
       "      <td>214649482</td>\n",
       "    </tr>\n",
       "    <tr>\n",
       "      <th>AAPL</th>\n",
       "      <td>94.87</td>\n",
       "      <td>108.80</td>\n",
       "      <td>92.00</td>\n",
       "      <td>103.12</td>\n",
       "      <td>162206292</td>\n",
       "    </tr>\n",
       "    <tr>\n",
       "      <th>GE</th>\n",
       "      <td>22.84</td>\n",
       "      <td>24.38</td>\n",
       "      <td>19.37</td>\n",
       "      <td>23.87</td>\n",
       "      <td>91236502</td>\n",
       "    </tr>\n",
       "    <tr>\n",
       "      <th>MSFT</th>\n",
       "      <td>40.45</td>\n",
       "      <td>43.31</td>\n",
       "      <td>39.72</td>\n",
       "      <td>41.68</td>\n",
       "      <td>88753660</td>\n",
       "    </tr>\n",
       "    <tr>\n",
       "      <th>FB</th>\n",
       "      <td>77.03</td>\n",
       "      <td>87.14</td>\n",
       "      <td>72.00</td>\n",
       "      <td>82.09</td>\n",
       "      <td>83710727</td>\n",
       "    </tr>\n",
       "  </tbody>\n",
       "</table>\n",
       "</div>"
      ],
      "text/plain": [
       "         open    high    low   close     volume\n",
       "symbol                                         \n",
       "BAC     15.02   15.98  14.60   15.29  214649482\n",
       "AAPL    94.87  108.80  92.00  103.12  162206292\n",
       "GE      22.84   24.38  19.37   23.87   91236502\n",
       "MSFT    40.45   43.31  39.72   41.68   88753660\n",
       "FB      77.03   87.14  72.00   82.09   83710727"
      ]
     },
     "execution_count": 12,
     "metadata": {},
     "output_type": "execute_result"
    }
   ],
   "source": [
    "SymbolSum.sort_values('volume',ascending=False).head()"
   ]
  },
  {
   "cell_type": "markdown",
   "id": "e856198b",
   "metadata": {
    "papermill": {
     "duration": 0.025303,
     "end_time": "2021-09-23T20:21:48.516352",
     "exception": false,
     "start_time": "2021-09-23T20:21:48.491049",
     "status": "completed"
    },
    "tags": []
   },
   "source": [
    "**As we can see, 2015-08-24 saw the largest overall trading volume and BAC and AAPL were the two most traded stocks of the day.**"
   ]
  },
  {
   "cell_type": "markdown",
   "id": "436c04de",
   "metadata": {
    "papermill": {
     "duration": 0.025,
     "end_time": "2021-09-23T20:21:48.566616",
     "exception": false,
     "start_time": "2021-09-23T20:21:48.541616",
     "status": "completed"
    },
    "tags": []
   },
   "source": [
    "**Question 2: On which day of the week does volume tend to be highest? Lowest?**"
   ]
  },
  {
   "cell_type": "code",
   "execution_count": 13,
   "id": "a1598648",
   "metadata": {
    "execution": {
     "iopub.execute_input": "2021-09-23T20:21:48.620353Z",
     "iopub.status.busy": "2021-09-23T20:21:48.619517Z",
     "iopub.status.idle": "2021-09-23T20:21:48.630171Z",
     "shell.execute_reply": "2021-09-23T20:21:48.630632Z",
     "shell.execute_reply.started": "2021-09-23T19:58:09.679338Z"
    },
    "papermill": {
     "duration": 0.038827,
     "end_time": "2021-09-23T20:21:48.630762",
     "exception": false,
     "start_time": "2021-09-23T20:21:48.591935",
     "status": "completed"
    },
    "tags": []
   },
   "outputs": [
    {
     "data": {
      "text/html": [
       "<div>\n",
       "<style scoped>\n",
       "    .dataframe tbody tr th:only-of-type {\n",
       "        vertical-align: middle;\n",
       "    }\n",
       "\n",
       "    .dataframe tbody tr th {\n",
       "        vertical-align: top;\n",
       "    }\n",
       "\n",
       "    .dataframe thead th {\n",
       "        text-align: right;\n",
       "    }\n",
       "</style>\n",
       "<table border=\"1\" class=\"dataframe\">\n",
       "  <thead>\n",
       "    <tr style=\"text-align: right;\">\n",
       "      <th></th>\n",
       "      <th>symbol</th>\n",
       "      <th>date</th>\n",
       "      <th>open</th>\n",
       "      <th>high</th>\n",
       "      <th>low</th>\n",
       "      <th>close</th>\n",
       "      <th>volume</th>\n",
       "    </tr>\n",
       "  </thead>\n",
       "  <tbody>\n",
       "    <tr>\n",
       "      <th>0</th>\n",
       "      <td>AAL</td>\n",
       "      <td>2014-01-02</td>\n",
       "      <td>25.0700</td>\n",
       "      <td>25.8200</td>\n",
       "      <td>25.0600</td>\n",
       "      <td>25.3600</td>\n",
       "      <td>8998943</td>\n",
       "    </tr>\n",
       "    <tr>\n",
       "      <th>1</th>\n",
       "      <td>AAPL</td>\n",
       "      <td>2014-01-02</td>\n",
       "      <td>79.3828</td>\n",
       "      <td>79.5756</td>\n",
       "      <td>78.8601</td>\n",
       "      <td>79.0185</td>\n",
       "      <td>58791957</td>\n",
       "    </tr>\n",
       "    <tr>\n",
       "      <th>2</th>\n",
       "      <td>AAP</td>\n",
       "      <td>2014-01-02</td>\n",
       "      <td>110.3600</td>\n",
       "      <td>111.8800</td>\n",
       "      <td>109.2900</td>\n",
       "      <td>109.7400</td>\n",
       "      <td>542711</td>\n",
       "    </tr>\n",
       "    <tr>\n",
       "      <th>3</th>\n",
       "      <td>ABBV</td>\n",
       "      <td>2014-01-02</td>\n",
       "      <td>52.1200</td>\n",
       "      <td>52.3300</td>\n",
       "      <td>51.5200</td>\n",
       "      <td>51.9800</td>\n",
       "      <td>4569061</td>\n",
       "    </tr>\n",
       "    <tr>\n",
       "      <th>4</th>\n",
       "      <td>ABC</td>\n",
       "      <td>2014-01-02</td>\n",
       "      <td>70.1100</td>\n",
       "      <td>70.2300</td>\n",
       "      <td>69.4800</td>\n",
       "      <td>69.8900</td>\n",
       "      <td>1148391</td>\n",
       "    </tr>\n",
       "  </tbody>\n",
       "</table>\n",
       "</div>"
      ],
      "text/plain": [
       "  symbol        date      open      high       low     close    volume\n",
       "0    AAL  2014-01-02   25.0700   25.8200   25.0600   25.3600   8998943\n",
       "1   AAPL  2014-01-02   79.3828   79.5756   78.8601   79.0185  58791957\n",
       "2    AAP  2014-01-02  110.3600  111.8800  109.2900  109.7400    542711\n",
       "3   ABBV  2014-01-02   52.1200   52.3300   51.5200   51.9800   4569061\n",
       "4    ABC  2014-01-02   70.1100   70.2300   69.4800   69.8900   1148391"
      ]
     },
     "execution_count": 13,
     "metadata": {},
     "output_type": "execute_result"
    }
   ],
   "source": [
    "stock_data.head()"
   ]
  },
  {
   "cell_type": "code",
   "execution_count": 14,
   "id": "67cab707",
   "metadata": {
    "execution": {
     "iopub.execute_input": "2021-09-23T20:21:48.686037Z",
     "iopub.status.busy": "2021-09-23T20:21:48.685196Z",
     "iopub.status.idle": "2021-09-23T20:21:48.753737Z",
     "shell.execute_reply": "2021-09-23T20:21:48.754236Z",
     "shell.execute_reply.started": "2021-09-23T19:58:09.694934Z"
    },
    "papermill": {
     "duration": 0.098425,
     "end_time": "2021-09-23T20:21:48.754425",
     "exception": false,
     "start_time": "2021-09-23T20:21:48.656000",
     "status": "completed"
    },
    "tags": []
   },
   "outputs": [],
   "source": [
    "# First we have to convert date column to date-time    \n",
    "stock_data['date'] = pd.to_datetime(stock_data['date'])"
   ]
  },
  {
   "cell_type": "code",
   "execution_count": 15,
   "id": "abc1cf7c",
   "metadata": {
    "execution": {
     "iopub.execute_input": "2021-09-23T20:21:48.809340Z",
     "iopub.status.busy": "2021-09-23T20:21:48.808507Z",
     "iopub.status.idle": "2021-09-23T20:21:48.873699Z",
     "shell.execute_reply": "2021-09-23T20:21:48.874189Z",
     "shell.execute_reply.started": "2021-09-23T19:58:09.7969Z"
    },
    "papermill": {
     "duration": 0.093962,
     "end_time": "2021-09-23T20:21:48.874344",
     "exception": false,
     "start_time": "2021-09-23T20:21:48.780382",
     "status": "completed"
    },
    "tags": []
   },
   "outputs": [
    {
     "data": {
      "text/html": [
       "<div>\n",
       "<style scoped>\n",
       "    .dataframe tbody tr th:only-of-type {\n",
       "        vertical-align: middle;\n",
       "    }\n",
       "\n",
       "    .dataframe tbody tr th {\n",
       "        vertical-align: top;\n",
       "    }\n",
       "\n",
       "    .dataframe thead th {\n",
       "        text-align: right;\n",
       "    }\n",
       "</style>\n",
       "<table border=\"1\" class=\"dataframe\">\n",
       "  <thead>\n",
       "    <tr style=\"text-align: right;\">\n",
       "      <th></th>\n",
       "      <th>symbol</th>\n",
       "      <th>date</th>\n",
       "      <th>open</th>\n",
       "      <th>high</th>\n",
       "      <th>low</th>\n",
       "      <th>close</th>\n",
       "      <th>volume</th>\n",
       "      <th>day</th>\n",
       "    </tr>\n",
       "  </thead>\n",
       "  <tbody>\n",
       "    <tr>\n",
       "      <th>0</th>\n",
       "      <td>AAL</td>\n",
       "      <td>2014-01-02</td>\n",
       "      <td>25.0700</td>\n",
       "      <td>25.8200</td>\n",
       "      <td>25.0600</td>\n",
       "      <td>25.3600</td>\n",
       "      <td>8998943</td>\n",
       "      <td>3</td>\n",
       "    </tr>\n",
       "    <tr>\n",
       "      <th>1</th>\n",
       "      <td>AAPL</td>\n",
       "      <td>2014-01-02</td>\n",
       "      <td>79.3828</td>\n",
       "      <td>79.5756</td>\n",
       "      <td>78.8601</td>\n",
       "      <td>79.0185</td>\n",
       "      <td>58791957</td>\n",
       "      <td>3</td>\n",
       "    </tr>\n",
       "    <tr>\n",
       "      <th>2</th>\n",
       "      <td>AAP</td>\n",
       "      <td>2014-01-02</td>\n",
       "      <td>110.3600</td>\n",
       "      <td>111.8800</td>\n",
       "      <td>109.2900</td>\n",
       "      <td>109.7400</td>\n",
       "      <td>542711</td>\n",
       "      <td>3</td>\n",
       "    </tr>\n",
       "    <tr>\n",
       "      <th>3</th>\n",
       "      <td>ABBV</td>\n",
       "      <td>2014-01-02</td>\n",
       "      <td>52.1200</td>\n",
       "      <td>52.3300</td>\n",
       "      <td>51.5200</td>\n",
       "      <td>51.9800</td>\n",
       "      <td>4569061</td>\n",
       "      <td>3</td>\n",
       "    </tr>\n",
       "    <tr>\n",
       "      <th>4</th>\n",
       "      <td>ABC</td>\n",
       "      <td>2014-01-02</td>\n",
       "      <td>70.1100</td>\n",
       "      <td>70.2300</td>\n",
       "      <td>69.4800</td>\n",
       "      <td>69.8900</td>\n",
       "      <td>1148391</td>\n",
       "      <td>3</td>\n",
       "    </tr>\n",
       "  </tbody>\n",
       "</table>\n",
       "</div>"
      ],
      "text/plain": [
       "  symbol       date      open      high       low     close    volume  day\n",
       "0    AAL 2014-01-02   25.0700   25.8200   25.0600   25.3600   8998943    3\n",
       "1   AAPL 2014-01-02   79.3828   79.5756   78.8601   79.0185  58791957    3\n",
       "2    AAP 2014-01-02  110.3600  111.8800  109.2900  109.7400    542711    3\n",
       "3   ABBV 2014-01-02   52.1200   52.3300   51.5200   51.9800   4569061    3\n",
       "4    ABC 2014-01-02   70.1100   70.2300   69.4800   69.8900   1148391    3"
      ]
     },
     "execution_count": 15,
     "metadata": {},
     "output_type": "execute_result"
    }
   ],
   "source": [
    "#Then we find day of the week for each date and add it to a column\n",
    "stock_data['day'] = stock_data['date'].dt.dayofweek\n",
    "stock_data.head()"
   ]
  },
  {
   "cell_type": "code",
   "execution_count": 16,
   "id": "9cebe20c",
   "metadata": {
    "execution": {
     "iopub.execute_input": "2021-09-23T20:21:48.943398Z",
     "iopub.status.busy": "2021-09-23T20:21:48.942857Z",
     "iopub.status.idle": "2021-09-23T20:21:48.999716Z",
     "shell.execute_reply": "2021-09-23T20:21:48.999188Z",
     "shell.execute_reply.started": "2021-09-23T20:02:24.256259Z"
    },
    "papermill": {
     "duration": 0.09339,
     "end_time": "2021-09-23T20:21:48.999876",
     "exception": false,
     "start_time": "2021-09-23T20:21:48.906486",
     "status": "completed"
    },
    "tags": []
   },
   "outputs": [
    {
     "data": {
      "text/html": [
       "<div>\n",
       "<style scoped>\n",
       "    .dataframe tbody tr th:only-of-type {\n",
       "        vertical-align: middle;\n",
       "    }\n",
       "\n",
       "    .dataframe tbody tr th {\n",
       "        vertical-align: top;\n",
       "    }\n",
       "\n",
       "    .dataframe thead th {\n",
       "        text-align: right;\n",
       "    }\n",
       "</style>\n",
       "<table border=\"1\" class=\"dataframe\">\n",
       "  <thead>\n",
       "    <tr style=\"text-align: right;\">\n",
       "      <th></th>\n",
       "      <th>open</th>\n",
       "      <th>high</th>\n",
       "      <th>low</th>\n",
       "      <th>close</th>\n",
       "      <th>volume</th>\n",
       "    </tr>\n",
       "    <tr>\n",
       "      <th>day</th>\n",
       "      <th></th>\n",
       "      <th></th>\n",
       "      <th></th>\n",
       "      <th></th>\n",
       "      <th></th>\n",
       "    </tr>\n",
       "  </thead>\n",
       "  <tbody>\n",
       "    <tr>\n",
       "      <th>0</th>\n",
       "      <td>86.316806</td>\n",
       "      <td>87.082099</td>\n",
       "      <td>85.533313</td>\n",
       "      <td>86.322181</td>\n",
       "      <td>4.031172e+06</td>\n",
       "    </tr>\n",
       "    <tr>\n",
       "      <th>1</th>\n",
       "      <td>86.251125</td>\n",
       "      <td>87.022208</td>\n",
       "      <td>85.469677</td>\n",
       "      <td>86.271991</td>\n",
       "      <td>4.188689e+06</td>\n",
       "    </tr>\n",
       "    <tr>\n",
       "      <th>2</th>\n",
       "      <td>86.375931</td>\n",
       "      <td>87.173239</td>\n",
       "      <td>85.556928</td>\n",
       "      <td>86.415754</td>\n",
       "      <td>4.298572e+06</td>\n",
       "    </tr>\n",
       "    <tr>\n",
       "      <th>3</th>\n",
       "      <td>86.307541</td>\n",
       "      <td>87.113141</td>\n",
       "      <td>85.486302</td>\n",
       "      <td>86.324814</td>\n",
       "      <td>4.299304e+06</td>\n",
       "    </tr>\n",
       "    <tr>\n",
       "      <th>4</th>\n",
       "      <td>86.510280</td>\n",
       "      <td>87.270889</td>\n",
       "      <td>85.717814</td>\n",
       "      <td>86.509309</td>\n",
       "      <td>4.435782e+06</td>\n",
       "    </tr>\n",
       "  </tbody>\n",
       "</table>\n",
       "</div>"
      ],
      "text/plain": [
       "          open       high        low      close        volume\n",
       "day                                                          \n",
       "0    86.316806  87.082099  85.533313  86.322181  4.031172e+06\n",
       "1    86.251125  87.022208  85.469677  86.271991  4.188689e+06\n",
       "2    86.375931  87.173239  85.556928  86.415754  4.298572e+06\n",
       "3    86.307541  87.113141  85.486302  86.324814  4.299304e+06\n",
       "4    86.510280  87.270889  85.717814  86.509309  4.435782e+06"
      ]
     },
     "execution_count": 16,
     "metadata": {},
     "output_type": "execute_result"
    }
   ],
   "source": [
    "# Group each day and find volume mean\n",
    "DayMean = stock_data.groupby('day').mean() \n",
    "DayMean"
   ]
  },
  {
   "cell_type": "markdown",
   "id": "b627fcfa",
   "metadata": {
    "papermill": {
     "duration": 0.027544,
     "end_time": "2021-09-23T20:21:49.054389",
     "exception": false,
     "start_time": "2021-09-23T20:21:49.026845",
     "status": "completed"
    },
    "tags": []
   },
   "source": [
    "**The market remains closed for two days so we don't have a 5 and a 6.**"
   ]
  },
  {
   "cell_type": "code",
   "execution_count": 17,
   "id": "bf3efe84",
   "metadata": {
    "execution": {
     "iopub.execute_input": "2021-09-23T20:21:49.112501Z",
     "iopub.status.busy": "2021-09-23T20:21:49.111592Z",
     "iopub.status.idle": "2021-09-23T20:21:49.320971Z",
     "shell.execute_reply": "2021-09-23T20:21:49.320496Z",
     "shell.execute_reply.started": "2021-09-23T20:00:53.821847Z"
    },
    "papermill": {
     "duration": 0.239175,
     "end_time": "2021-09-23T20:21:49.321109",
     "exception": false,
     "start_time": "2021-09-23T20:21:49.081934",
     "status": "completed"
    },
    "tags": []
   },
   "outputs": [
    {
     "data": {
      "image/png": "[encoded data removed]",
      "text/plain": [
       "<Figure size 432x288 with 1 Axes>"
      ]
     },
     "metadata": {
      "needs_background": "light"
     },
     "output_type": "display_data"
    }
   ],
   "source": [
    "# Let's use a line chart to see which days have highest and lowest volumes.\n",
    "x = range(0,5)\n",
    "plt.plot(x,DayMean['volume'])\n",
    "plt.ylabel('Mean Volume')\n",
    "plt.xlabel('Week Day')\n",
    "plt.xticks(x)\n",
    "plt.grid()\n",
    "plt.show()"
   ]
  },
  {
   "cell_type": "markdown",
   "id": "962f2bbd",
   "metadata": {
    "papermill": {
     "duration": 0.025295,
     "end_time": "2021-09-23T20:21:49.372211",
     "exception": false,
     "start_time": "2021-09-23T20:21:49.346916",
     "status": "completed"
    },
    "tags": []
   },
   "source": [
    "Monday-0 Sunday-6\n",
    "\n",
    "**We can see volume tends to be highest on Friday and lowest on Monday.**"
   ]
  },
  {
   "cell_type": "markdown",
   "id": "5be232b4",
   "metadata": {
    "papermill": {
     "duration": 0.025056,
     "end_time": "2021-09-23T20:21:49.422481",
     "exception": false,
     "start_time": "2021-09-23T20:21:49.397425",
     "status": "completed"
    },
    "tags": []
   },
   "source": [
    "**Question 3: On which date did Amazon (AMZN) see the most volatility, measured by the difference between the high and low price?**"
   ]
  },
  {
   "cell_type": "code",
   "execution_count": 18,
   "id": "689e362a",
   "metadata": {
    "execution": {
     "iopub.execute_input": "2021-09-23T20:21:49.477153Z",
     "iopub.status.busy": "2021-09-23T20:21:49.476322Z",
     "iopub.status.idle": "2021-09-23T20:21:49.521658Z",
     "shell.execute_reply": "2021-09-23T20:21:49.522078Z",
     "shell.execute_reply.started": "2021-09-23T19:58:10.115335Z"
    },
    "papermill": {
     "duration": 0.074246,
     "end_time": "2021-09-23T20:21:49.522216",
     "exception": false,
     "start_time": "2021-09-23T20:21:49.447970",
     "status": "completed"
    },
    "tags": []
   },
   "outputs": [
    {
     "data": {
      "text/html": [
       "<div>\n",
       "<style scoped>\n",
       "    .dataframe tbody tr th:only-of-type {\n",
       "        vertical-align: middle;\n",
       "    }\n",
       "\n",
       "    .dataframe tbody tr th {\n",
       "        vertical-align: top;\n",
       "    }\n",
       "\n",
       "    .dataframe thead th {\n",
       "        text-align: right;\n",
       "    }\n",
       "</style>\n",
       "<table border=\"1\" class=\"dataframe\">\n",
       "  <thead>\n",
       "    <tr style=\"text-align: right;\">\n",
       "      <th></th>\n",
       "      <th>symbol</th>\n",
       "      <th>date</th>\n",
       "      <th>open</th>\n",
       "      <th>high</th>\n",
       "      <th>low</th>\n",
       "      <th>close</th>\n",
       "      <th>volume</th>\n",
       "      <th>day</th>\n",
       "    </tr>\n",
       "  </thead>\n",
       "  <tbody>\n",
       "    <tr>\n",
       "      <th>37</th>\n",
       "      <td>AMZN</td>\n",
       "      <td>2014-01-02</td>\n",
       "      <td>398.80</td>\n",
       "      <td>399.36</td>\n",
       "      <td>394.02</td>\n",
       "      <td>397.97</td>\n",
       "      <td>2140246</td>\n",
       "      <td>3</td>\n",
       "    </tr>\n",
       "    <tr>\n",
       "      <th>520</th>\n",
       "      <td>AMZN</td>\n",
       "      <td>2014-01-03</td>\n",
       "      <td>398.29</td>\n",
       "      <td>402.71</td>\n",
       "      <td>396.22</td>\n",
       "      <td>396.44</td>\n",
       "      <td>2213512</td>\n",
       "      <td>4</td>\n",
       "    </tr>\n",
       "    <tr>\n",
       "      <th>1003</th>\n",
       "      <td>AMZN</td>\n",
       "      <td>2014-01-06</td>\n",
       "      <td>395.85</td>\n",
       "      <td>397.00</td>\n",
       "      <td>388.42</td>\n",
       "      <td>393.63</td>\n",
       "      <td>3172207</td>\n",
       "      <td>0</td>\n",
       "    </tr>\n",
       "    <tr>\n",
       "      <th>1486</th>\n",
       "      <td>AMZN</td>\n",
       "      <td>2014-01-07</td>\n",
       "      <td>395.04</td>\n",
       "      <td>398.47</td>\n",
       "      <td>394.29</td>\n",
       "      <td>398.03</td>\n",
       "      <td>1916684</td>\n",
       "      <td>1</td>\n",
       "    </tr>\n",
       "    <tr>\n",
       "      <th>1969</th>\n",
       "      <td>AMZN</td>\n",
       "      <td>2014-01-08</td>\n",
       "      <td>398.47</td>\n",
       "      <td>403.00</td>\n",
       "      <td>396.04</td>\n",
       "      <td>401.92</td>\n",
       "      <td>2316903</td>\n",
       "      <td>2</td>\n",
       "    </tr>\n",
       "    <tr>\n",
       "      <th>...</th>\n",
       "      <td>...</td>\n",
       "      <td>...</td>\n",
       "      <td>...</td>\n",
       "      <td>...</td>\n",
       "      <td>...</td>\n",
       "      <td>...</td>\n",
       "      <td>...</td>\n",
       "      <td>...</td>\n",
       "    </tr>\n",
       "    <tr>\n",
       "      <th>494984</th>\n",
       "      <td>AMZN</td>\n",
       "      <td>2017-12-22</td>\n",
       "      <td>1172.08</td>\n",
       "      <td>1174.62</td>\n",
       "      <td>1167.83</td>\n",
       "      <td>1168.36</td>\n",
       "      <td>1585054</td>\n",
       "      <td>4</td>\n",
       "    </tr>\n",
       "    <tr>\n",
       "      <th>495489</th>\n",
       "      <td>AMZN</td>\n",
       "      <td>2017-12-26</td>\n",
       "      <td>1168.36</td>\n",
       "      <td>1178.32</td>\n",
       "      <td>1160.55</td>\n",
       "      <td>1176.76</td>\n",
       "      <td>2005187</td>\n",
       "      <td>1</td>\n",
       "    </tr>\n",
       "    <tr>\n",
       "      <th>495994</th>\n",
       "      <td>AMZN</td>\n",
       "      <td>2017-12-27</td>\n",
       "      <td>1179.91</td>\n",
       "      <td>1187.29</td>\n",
       "      <td>1175.61</td>\n",
       "      <td>1182.26</td>\n",
       "      <td>1867208</td>\n",
       "      <td>2</td>\n",
       "    </tr>\n",
       "    <tr>\n",
       "      <th>496499</th>\n",
       "      <td>AMZN</td>\n",
       "      <td>2017-12-28</td>\n",
       "      <td>1189.00</td>\n",
       "      <td>1190.10</td>\n",
       "      <td>1184.38</td>\n",
       "      <td>1186.10</td>\n",
       "      <td>1841676</td>\n",
       "      <td>3</td>\n",
       "    </tr>\n",
       "    <tr>\n",
       "      <th>497004</th>\n",
       "      <td>AMZN</td>\n",
       "      <td>2017-12-29</td>\n",
       "      <td>1182.35</td>\n",
       "      <td>1184.00</td>\n",
       "      <td>1167.50</td>\n",
       "      <td>1169.47</td>\n",
       "      <td>2688391</td>\n",
       "      <td>4</td>\n",
       "    </tr>\n",
       "  </tbody>\n",
       "</table>\n",
       "<p>1007 rows × 8 columns</p>\n",
       "</div>"
      ],
      "text/plain": [
       "       symbol       date     open     high      low    close   volume  day\n",
       "37       AMZN 2014-01-02   398.80   399.36   394.02   397.97  2140246    3\n",
       "520      AMZN 2014-01-03   398.29   402.71   396.22   396.44  2213512    4\n",
       "1003     AMZN 2014-01-06   395.85   397.00   388.42   393.63  3172207    0\n",
       "1486     AMZN 2014-01-07   395.04   398.47   394.29   398.03  1916684    1\n",
       "1969     AMZN 2014-01-08   398.47   403.00   396.04   401.92  2316903    2\n",
       "...       ...        ...      ...      ...      ...      ...      ...  ...\n",
       "494984   AMZN 2017-12-22  1172.08  1174.62  1167.83  1168.36  1585054    4\n",
       "495489   AMZN 2017-12-26  1168.36  1178.32  1160.55  1176.76  2005187    1\n",
       "495994   AMZN 2017-12-27  1179.91  1187.29  1175.61  1182.26  1867208    2\n",
       "496499   AMZN 2017-12-28  1189.00  1190.10  1184.38  1186.10  1841676    3\n",
       "497004   AMZN 2017-12-29  1182.35  1184.00  1167.50  1169.47  2688391    4\n",
       "\n",
       "[1007 rows x 8 columns]"
      ]
     },
     "execution_count": 18,
     "metadata": {},
     "output_type": "execute_result"
    }
   ],
   "source": [
    "AMZN_data = stock_data.loc[stock_data[\"symbol\"]==\"AMZN\"]\n",
    "AMZN_data"
   ]
  },
  {
   "cell_type": "code",
   "execution_count": 19,
   "id": "94585fed",
   "metadata": {
    "execution": {
     "iopub.execute_input": "2021-09-23T20:21:49.589474Z",
     "iopub.status.busy": "2021-09-23T20:21:49.588673Z",
     "iopub.status.idle": "2021-09-23T20:21:49.602478Z",
     "shell.execute_reply": "2021-09-23T20:21:49.602871Z",
     "shell.execute_reply.started": "2021-09-23T19:58:10.217186Z"
    },
    "papermill": {
     "duration": 0.055294,
     "end_time": "2021-09-23T20:21:49.603082",
     "exception": false,
     "start_time": "2021-09-23T20:21:49.547788",
     "status": "completed"
    },
    "tags": []
   },
   "outputs": [
    {
     "name": "stderr",
     "output_type": "stream",
     "text": [
      "/opt/conda/lib/python3.7/site-packages/ipykernel_launcher.py:2: SettingWithCopyWarning: \n",
      "A value is trying to be set on a copy of a slice from a DataFrame.\n",
      "Try using .loc[row_indexer,col_indexer] = value instead\n",
      "\n",
      "See the caveats in the documentation: https://pandas.pydata.org/pandas-docs/stable/user_guide/indexing.html#returning-a-view-versus-a-copy\n",
      "  \n"
     ]
    },
    {
     "data": {
      "text/html": [
       "<div>\n",
       "<style scoped>\n",
       "    .dataframe tbody tr th:only-of-type {\n",
       "        vertical-align: middle;\n",
       "    }\n",
       "\n",
       "    .dataframe tbody tr th {\n",
       "        vertical-align: top;\n",
       "    }\n",
       "\n",
       "    .dataframe thead th {\n",
       "        text-align: right;\n",
       "    }\n",
       "</style>\n",
       "<table border=\"1\" class=\"dataframe\">\n",
       "  <thead>\n",
       "    <tr style=\"text-align: right;\">\n",
       "      <th></th>\n",
       "      <th>symbol</th>\n",
       "      <th>date</th>\n",
       "      <th>open</th>\n",
       "      <th>high</th>\n",
       "      <th>low</th>\n",
       "      <th>close</th>\n",
       "      <th>volume</th>\n",
       "      <th>day</th>\n",
       "      <th>volatility</th>\n",
       "    </tr>\n",
       "  </thead>\n",
       "  <tbody>\n",
       "    <tr>\n",
       "      <th>37</th>\n",
       "      <td>AMZN</td>\n",
       "      <td>2014-01-02</td>\n",
       "      <td>398.80</td>\n",
       "      <td>399.36</td>\n",
       "      <td>394.02</td>\n",
       "      <td>397.97</td>\n",
       "      <td>2140246</td>\n",
       "      <td>3</td>\n",
       "      <td>5.34</td>\n",
       "    </tr>\n",
       "    <tr>\n",
       "      <th>520</th>\n",
       "      <td>AMZN</td>\n",
       "      <td>2014-01-03</td>\n",
       "      <td>398.29</td>\n",
       "      <td>402.71</td>\n",
       "      <td>396.22</td>\n",
       "      <td>396.44</td>\n",
       "      <td>2213512</td>\n",
       "      <td>4</td>\n",
       "      <td>6.49</td>\n",
       "    </tr>\n",
       "    <tr>\n",
       "      <th>1003</th>\n",
       "      <td>AMZN</td>\n",
       "      <td>2014-01-06</td>\n",
       "      <td>395.85</td>\n",
       "      <td>397.00</td>\n",
       "      <td>388.42</td>\n",
       "      <td>393.63</td>\n",
       "      <td>3172207</td>\n",
       "      <td>0</td>\n",
       "      <td>8.58</td>\n",
       "    </tr>\n",
       "    <tr>\n",
       "      <th>1486</th>\n",
       "      <td>AMZN</td>\n",
       "      <td>2014-01-07</td>\n",
       "      <td>395.04</td>\n",
       "      <td>398.47</td>\n",
       "      <td>394.29</td>\n",
       "      <td>398.03</td>\n",
       "      <td>1916684</td>\n",
       "      <td>1</td>\n",
       "      <td>4.18</td>\n",
       "    </tr>\n",
       "    <tr>\n",
       "      <th>1969</th>\n",
       "      <td>AMZN</td>\n",
       "      <td>2014-01-08</td>\n",
       "      <td>398.47</td>\n",
       "      <td>403.00</td>\n",
       "      <td>396.04</td>\n",
       "      <td>401.92</td>\n",
       "      <td>2316903</td>\n",
       "      <td>2</td>\n",
       "      <td>6.96</td>\n",
       "    </tr>\n",
       "  </tbody>\n",
       "</table>\n",
       "</div>"
      ],
      "text/plain": [
       "     symbol       date    open    high     low   close   volume  day  \\\n",
       "37     AMZN 2014-01-02  398.80  399.36  394.02  397.97  2140246    3   \n",
       "520    AMZN 2014-01-03  398.29  402.71  396.22  396.44  2213512    4   \n",
       "1003   AMZN 2014-01-06  395.85  397.00  388.42  393.63  3172207    0   \n",
       "1486   AMZN 2014-01-07  395.04  398.47  394.29  398.03  1916684    1   \n",
       "1969   AMZN 2014-01-08  398.47  403.00  396.04  401.92  2316903    2   \n",
       "\n",
       "      volatility  \n",
       "37          5.34  \n",
       "520         6.49  \n",
       "1003        8.58  \n",
       "1486        4.18  \n",
       "1969        6.96  "
      ]
     },
     "execution_count": 19,
     "metadata": {},
     "output_type": "execute_result"
    }
   ],
   "source": [
    "# For each date, we need to find volatility and find highest\n",
    "AMZN_data['volatility'] = AMZN_data['high'] - AMZN_data['low']\n",
    "AMZN_data.head()"
   ]
  },
  {
   "cell_type": "code",
   "execution_count": 20,
   "id": "ae99279b",
   "metadata": {
    "execution": {
     "iopub.execute_input": "2021-09-23T20:21:49.663395Z",
     "iopub.status.busy": "2021-09-23T20:21:49.662885Z",
     "iopub.status.idle": "2021-09-23T20:21:49.678335Z",
     "shell.execute_reply": "2021-09-23T20:21:49.678737Z",
     "shell.execute_reply.started": "2021-09-23T19:58:10.238543Z"
    },
    "papermill": {
     "duration": 0.047688,
     "end_time": "2021-09-23T20:21:49.678892",
     "exception": false,
     "start_time": "2021-09-23T20:21:49.631204",
     "status": "completed"
    },
    "tags": []
   },
   "outputs": [
    {
     "data": {
      "text/html": [
       "<div>\n",
       "<style scoped>\n",
       "    .dataframe tbody tr th:only-of-type {\n",
       "        vertical-align: middle;\n",
       "    }\n",
       "\n",
       "    .dataframe tbody tr th {\n",
       "        vertical-align: top;\n",
       "    }\n",
       "\n",
       "    .dataframe thead th {\n",
       "        text-align: right;\n",
       "    }\n",
       "</style>\n",
       "<table border=\"1\" class=\"dataframe\">\n",
       "  <thead>\n",
       "    <tr style=\"text-align: right;\">\n",
       "      <th></th>\n",
       "      <th>symbol</th>\n",
       "      <th>date</th>\n",
       "      <th>open</th>\n",
       "      <th>high</th>\n",
       "      <th>low</th>\n",
       "      <th>close</th>\n",
       "      <th>volume</th>\n",
       "      <th>day</th>\n",
       "      <th>volatility</th>\n",
       "    </tr>\n",
       "  </thead>\n",
       "  <tbody>\n",
       "    <tr>\n",
       "      <th>426023</th>\n",
       "      <td>AMZN</td>\n",
       "      <td>2017-06-09</td>\n",
       "      <td>1012.50</td>\n",
       "      <td>1012.99</td>\n",
       "      <td>927.00</td>\n",
       "      <td>978.31</td>\n",
       "      <td>7647692</td>\n",
       "      <td>4</td>\n",
       "      <td>85.99</td>\n",
       "    </tr>\n",
       "    <tr>\n",
       "      <th>354027</th>\n",
       "      <td>AMZN</td>\n",
       "      <td>2016-11-10</td>\n",
       "      <td>778.81</td>\n",
       "      <td>778.83</td>\n",
       "      <td>717.70</td>\n",
       "      <td>742.38</td>\n",
       "      <td>12746994</td>\n",
       "      <td>3</td>\n",
       "      <td>61.13</td>\n",
       "    </tr>\n",
       "    <tr>\n",
       "      <th>475315</th>\n",
       "      <td>AMZN</td>\n",
       "      <td>2017-10-27</td>\n",
       "      <td>1058.14</td>\n",
       "      <td>1105.58</td>\n",
       "      <td>1050.55</td>\n",
       "      <td>1100.95</td>\n",
       "      <td>16565021</td>\n",
       "      <td>4</td>\n",
       "      <td>55.03</td>\n",
       "    </tr>\n",
       "    <tr>\n",
       "      <th>190913</th>\n",
       "      <td>AMZN</td>\n",
       "      <td>2015-07-24</td>\n",
       "      <td>578.99</td>\n",
       "      <td>580.57</td>\n",
       "      <td>529.35</td>\n",
       "      <td>529.42</td>\n",
       "      <td>21909381</td>\n",
       "      <td>4</td>\n",
       "      <td>51.22</td>\n",
       "    </tr>\n",
       "    <tr>\n",
       "      <th>486403</th>\n",
       "      <td>AMZN</td>\n",
       "      <td>2017-11-29</td>\n",
       "      <td>1194.80</td>\n",
       "      <td>1194.80</td>\n",
       "      <td>1145.19</td>\n",
       "      <td>1161.27</td>\n",
       "      <td>9257512</td>\n",
       "      <td>2</td>\n",
       "      <td>49.61</td>\n",
       "    </tr>\n",
       "    <tr>\n",
       "      <th>...</th>\n",
       "      <td>...</td>\n",
       "      <td>...</td>\n",
       "      <td>...</td>\n",
       "      <td>...</td>\n",
       "      <td>...</td>\n",
       "      <td>...</td>\n",
       "      <td>...</td>\n",
       "      <td>...</td>\n",
       "      <td>...</td>\n",
       "    </tr>\n",
       "    <tr>\n",
       "      <th>149299</th>\n",
       "      <td>AMZN</td>\n",
       "      <td>2015-03-24</td>\n",
       "      <td>373.99</td>\n",
       "      <td>375.24</td>\n",
       "      <td>372.27</td>\n",
       "      <td>374.09</td>\n",
       "      <td>2228214</td>\n",
       "      <td>1</td>\n",
       "      <td>2.97</td>\n",
       "    </tr>\n",
       "    <tr>\n",
       "      <th>121946</th>\n",
       "      <td>AMZN</td>\n",
       "      <td>2014-12-31</td>\n",
       "      <td>311.55</td>\n",
       "      <td>312.98</td>\n",
       "      <td>310.01</td>\n",
       "      <td>310.35</td>\n",
       "      <td>2057766</td>\n",
       "      <td>2</td>\n",
       "      <td>2.97</td>\n",
       "    </tr>\n",
       "    <tr>\n",
       "      <th>110722</th>\n",
       "      <td>AMZN</td>\n",
       "      <td>2014-11-26</td>\n",
       "      <td>333.78</td>\n",
       "      <td>334.65</td>\n",
       "      <td>331.75</td>\n",
       "      <td>333.57</td>\n",
       "      <td>1985949</td>\n",
       "      <td>2</td>\n",
       "      <td>2.90</td>\n",
       "    </tr>\n",
       "    <tr>\n",
       "      <th>50346</th>\n",
       "      <td>AMZN</td>\n",
       "      <td>2014-06-03</td>\n",
       "      <td>305.75</td>\n",
       "      <td>307.92</td>\n",
       "      <td>305.07</td>\n",
       "      <td>307.19</td>\n",
       "      <td>2379273</td>\n",
       "      <td>1</td>\n",
       "      <td>2.85</td>\n",
       "    </tr>\n",
       "    <tr>\n",
       "      <th>76587</th>\n",
       "      <td>AMZN</td>\n",
       "      <td>2014-08-19</td>\n",
       "      <td>334.87</td>\n",
       "      <td>335.81</td>\n",
       "      <td>333.01</td>\n",
       "      <td>335.13</td>\n",
       "      <td>1714120</td>\n",
       "      <td>1</td>\n",
       "      <td>2.80</td>\n",
       "    </tr>\n",
       "  </tbody>\n",
       "</table>\n",
       "<p>1007 rows × 9 columns</p>\n",
       "</div>"
      ],
      "text/plain": [
       "       symbol       date     open     high      low    close    volume  day  \\\n",
       "426023   AMZN 2017-06-09  1012.50  1012.99   927.00   978.31   7647692    4   \n",
       "354027   AMZN 2016-11-10   778.81   778.83   717.70   742.38  12746994    3   \n",
       "475315   AMZN 2017-10-27  1058.14  1105.58  1050.55  1100.95  16565021    4   \n",
       "190913   AMZN 2015-07-24   578.99   580.57   529.35   529.42  21909381    4   \n",
       "486403   AMZN 2017-11-29  1194.80  1194.80  1145.19  1161.27   9257512    2   \n",
       "...       ...        ...      ...      ...      ...      ...       ...  ...   \n",
       "149299   AMZN 2015-03-24   373.99   375.24   372.27   374.09   2228214    1   \n",
       "121946   AMZN 2014-12-31   311.55   312.98   310.01   310.35   2057766    2   \n",
       "110722   AMZN 2014-11-26   333.78   334.65   331.75   333.57   1985949    2   \n",
       "50346    AMZN 2014-06-03   305.75   307.92   305.07   307.19   2379273    1   \n",
       "76587    AMZN 2014-08-19   334.87   335.81   333.01   335.13   1714120    1   \n",
       "\n",
       "        volatility  \n",
       "426023       85.99  \n",
       "354027       61.13  \n",
       "475315       55.03  \n",
       "190913       51.22  \n",
       "486403       49.61  \n",
       "...            ...  \n",
       "149299        2.97  \n",
       "121946        2.97  \n",
       "110722        2.90  \n",
       "50346         2.85  \n",
       "76587         2.80  \n",
       "\n",
       "[1007 rows x 9 columns]"
      ]
     },
     "execution_count": 20,
     "metadata": {},
     "output_type": "execute_result"
    }
   ],
   "source": [
    "AMZN_data.sort_values(\"volatility\",ascending=False)"
   ]
  },
  {
   "cell_type": "markdown",
   "id": "aecc3076",
   "metadata": {
    "papermill": {
     "duration": 0.026443,
     "end_time": "2021-09-23T20:21:49.732014",
     "exception": false,
     "start_time": "2021-09-23T20:21:49.705571",
     "status": "completed"
    },
    "tags": []
   },
   "source": [
    "**2017-06-09 was the date AMZN had the highest volatility (highest difference between high and low price).**"
   ]
  },
  {
   "cell_type": "markdown",
   "id": "c748f7b5",
   "metadata": {
    "papermill": {
     "duration": 0.026427,
     "end_time": "2021-09-23T20:21:49.785342",
     "exception": false,
     "start_time": "2021-09-23T20:21:49.758915",
     "status": "completed"
    },
    "tags": []
   },
   "source": [
    "**Question 4: If you could go back in time and invest in one stock from 1/2/2014 - 12/29/2017, which would you choose? What % gain would you realize?**"
   ]
  },
  {
   "cell_type": "markdown",
   "id": "ab5f7819",
   "metadata": {
    "papermill": {
     "duration": 0.02788,
     "end_time": "2021-09-23T20:21:49.839936",
     "exception": false,
     "start_time": "2021-09-23T20:21:49.812056",
     "status": "completed"
    },
    "tags": []
   },
   "source": [
    "This question can be interpreted or approached in many ways. I will use the closing prices of the two dates. I will try finding the stocks with the lowest closing prices on 1/2/2014 and highest closing price on 12/29/2017. Then I will choose whichever stock I see has the highest percentage gain."
   ]
  },
  {
   "cell_type": "code",
   "execution_count": 21,
   "id": "36974349",
   "metadata": {
    "execution": {
     "iopub.execute_input": "2021-09-23T20:21:49.897651Z",
     "iopub.status.busy": "2021-09-23T20:21:49.896834Z",
     "iopub.status.idle": "2021-09-23T20:21:49.903824Z",
     "shell.execute_reply": "2021-09-23T20:21:49.904265Z",
     "shell.execute_reply.started": "2021-09-23T19:58:10.270685Z"
    },
    "papermill": {
     "duration": 0.037852,
     "end_time": "2021-09-23T20:21:49.904395",
     "exception": false,
     "start_time": "2021-09-23T20:21:49.866543",
     "status": "completed"
    },
    "tags": []
   },
   "outputs": [],
   "source": [
    "beginDate = stock_data.loc[stock_data['date']=='2014-01-02'] # filtering by date\n",
    "last = beginDate.sort_values('close').head(50)"
   ]
  },
  {
   "cell_type": "markdown",
   "id": "2cc6b71c",
   "metadata": {
    "papermill": {
     "duration": 0.028376,
     "end_time": "2021-09-23T20:21:49.959327",
     "exception": false,
     "start_time": "2021-09-23T20:21:49.930951",
     "status": "completed"
    },
    "tags": []
   },
   "source": [
    "Stocks with the lowest closing prices on 1/2/2014."
   ]
  },
  {
   "cell_type": "code",
   "execution_count": 22,
   "id": "e83a55b5",
   "metadata": {
    "execution": {
     "iopub.execute_input": "2021-09-23T20:21:50.015379Z",
     "iopub.status.busy": "2021-09-23T20:21:50.014869Z",
     "iopub.status.idle": "2021-09-23T20:21:50.021206Z",
     "shell.execute_reply": "2021-09-23T20:21:50.021639Z",
     "shell.execute_reply.started": "2021-09-23T19:58:10.28565Z"
    },
    "papermill": {
     "duration": 0.035869,
     "end_time": "2021-09-23T20:21:50.021779",
     "exception": false,
     "start_time": "2021-09-23T20:21:49.985910",
     "status": "completed"
    },
    "tags": []
   },
   "outputs": [],
   "source": [
    "EndDate = stock_data.loc[stock_data['date']=='2017-12-29'] # filtering by date\n",
    "top = EndDate.sort_values('close',ascending=False).head(50)"
   ]
  },
  {
   "cell_type": "markdown",
   "id": "2033b608",
   "metadata": {
    "papermill": {
     "duration": 0.028796,
     "end_time": "2021-09-23T20:21:50.079115",
     "exception": false,
     "start_time": "2021-09-23T20:21:50.050319",
     "status": "completed"
    },
    "tags": []
   },
   "source": [
    "Stocks with the highest closing prices on 12/29/2017."
   ]
  },
  {
   "cell_type": "code",
   "execution_count": 23,
   "id": "e84d1651",
   "metadata": {
    "execution": {
     "iopub.execute_input": "2021-09-23T20:21:50.138927Z",
     "iopub.status.busy": "2021-09-23T20:21:50.138362Z",
     "iopub.status.idle": "2021-09-23T20:21:50.143018Z",
     "shell.execute_reply": "2021-09-23T20:21:50.143512Z",
     "shell.execute_reply.started": "2021-09-23T19:58:10.298548Z"
    },
    "papermill": {
     "duration": 0.03611,
     "end_time": "2021-09-23T20:21:50.143650",
     "exception": false,
     "start_time": "2021-09-23T20:21:50.107540",
     "status": "completed"
    },
    "tags": []
   },
   "outputs": [
    {
     "data": {
      "text/plain": [
       "['NVDA']"
      ]
     },
     "execution_count": 23,
     "metadata": {},
     "output_type": "execute_result"
    }
   ],
   "source": [
    "list(set(top['symbol']).intersection(set(last['symbol'])))"
   ]
  },
  {
   "cell_type": "markdown",
   "id": "eae9bff4",
   "metadata": {
    "papermill": {
     "duration": 0.028715,
     "end_time": "2021-09-23T20:21:50.201341",
     "exception": false,
     "start_time": "2021-09-23T20:21:50.172626",
     "status": "completed"
    },
    "tags": []
   },
   "source": [
    "**So, we have only one stock that is common the the two series (least priced on opening date vs highest priced on closing date) and that stock is NVDA. We only need to find the percentage gain of that stock.**"
   ]
  },
  {
   "cell_type": "code",
   "execution_count": 24,
   "id": "f5b5fc0f",
   "metadata": {
    "execution": {
     "iopub.execute_input": "2021-09-23T20:21:50.261560Z",
     "iopub.status.busy": "2021-09-23T20:21:50.261042Z",
     "iopub.status.idle": "2021-09-23T20:21:50.271736Z",
     "shell.execute_reply": "2021-09-23T20:21:50.272175Z",
     "shell.execute_reply.started": "2021-09-23T19:58:10.310814Z"
    },
    "papermill": {
     "duration": 0.04209,
     "end_time": "2021-09-23T20:21:50.272327",
     "exception": false,
     "start_time": "2021-09-23T20:21:50.230237",
     "status": "completed"
    },
    "tags": []
   },
   "outputs": [
    {
     "data": {
      "text/html": [
       "<div>\n",
       "<style scoped>\n",
       "    .dataframe tbody tr th:only-of-type {\n",
       "        vertical-align: middle;\n",
       "    }\n",
       "\n",
       "    .dataframe tbody tr th {\n",
       "        vertical-align: top;\n",
       "    }\n",
       "\n",
       "    .dataframe thead th {\n",
       "        text-align: right;\n",
       "    }\n",
       "</style>\n",
       "<table border=\"1\" class=\"dataframe\">\n",
       "  <thead>\n",
       "    <tr style=\"text-align: right;\">\n",
       "      <th></th>\n",
       "      <th>symbol</th>\n",
       "      <th>date</th>\n",
       "      <th>open</th>\n",
       "      <th>high</th>\n",
       "      <th>low</th>\n",
       "      <th>close</th>\n",
       "      <th>volume</th>\n",
       "      <th>day</th>\n",
       "    </tr>\n",
       "  </thead>\n",
       "  <tbody>\n",
       "    <tr>\n",
       "      <th>497313</th>\n",
       "      <td>NVDA</td>\n",
       "      <td>2017-12-29</td>\n",
       "      <td>198.46</td>\n",
       "      <td>198.46</td>\n",
       "      <td>193.5</td>\n",
       "      <td>193.5</td>\n",
       "      <td>6999116</td>\n",
       "      <td>4</td>\n",
       "    </tr>\n",
       "  </tbody>\n",
       "</table>\n",
       "</div>"
      ],
      "text/plain": [
       "       symbol       date    open    high    low  close   volume  day\n",
       "497313   NVDA 2017-12-29  198.46  198.46  193.5  193.5  6999116    4"
      ]
     },
     "execution_count": 24,
     "metadata": {},
     "output_type": "execute_result"
    }
   ],
   "source": [
    "top.loc[top['symbol']=='NVDA']"
   ]
  },
  {
   "cell_type": "code",
   "execution_count": 25,
   "id": "0b0bf242",
   "metadata": {
    "execution": {
     "iopub.execute_input": "2021-09-23T20:21:50.338492Z",
     "iopub.status.busy": "2021-09-23T20:21:50.336074Z",
     "iopub.status.idle": "2021-09-23T20:21:50.347856Z",
     "shell.execute_reply": "2021-09-23T20:21:50.347397Z",
     "shell.execute_reply.started": "2021-09-23T19:58:10.331162Z"
    },
    "papermill": {
     "duration": 0.044921,
     "end_time": "2021-09-23T20:21:50.347984",
     "exception": false,
     "start_time": "2021-09-23T20:21:50.303063",
     "status": "completed"
    },
    "tags": []
   },
   "outputs": [
    {
     "data": {
      "text/html": [
       "<div>\n",
       "<style scoped>\n",
       "    .dataframe tbody tr th:only-of-type {\n",
       "        vertical-align: middle;\n",
       "    }\n",
       "\n",
       "    .dataframe tbody tr th {\n",
       "        vertical-align: top;\n",
       "    }\n",
       "\n",
       "    .dataframe thead th {\n",
       "        text-align: right;\n",
       "    }\n",
       "</style>\n",
       "<table border=\"1\" class=\"dataframe\">\n",
       "  <thead>\n",
       "    <tr style=\"text-align: right;\">\n",
       "      <th></th>\n",
       "      <th>symbol</th>\n",
       "      <th>date</th>\n",
       "      <th>open</th>\n",
       "      <th>high</th>\n",
       "      <th>low</th>\n",
       "      <th>close</th>\n",
       "      <th>volume</th>\n",
       "      <th>day</th>\n",
       "    </tr>\n",
       "  </thead>\n",
       "  <tbody>\n",
       "    <tr>\n",
       "      <th>330</th>\n",
       "      <td>NVDA</td>\n",
       "      <td>2014-01-02</td>\n",
       "      <td>15.92</td>\n",
       "      <td>15.98</td>\n",
       "      <td>15.72</td>\n",
       "      <td>15.86</td>\n",
       "      <td>6502296</td>\n",
       "      <td>3</td>\n",
       "    </tr>\n",
       "  </tbody>\n",
       "</table>\n",
       "</div>"
      ],
      "text/plain": [
       "    symbol       date   open   high    low  close   volume  day\n",
       "330   NVDA 2014-01-02  15.92  15.98  15.72  15.86  6502296    3"
      ]
     },
     "execution_count": 25,
     "metadata": {},
     "output_type": "execute_result"
    }
   ],
   "source": [
    "last.loc[last['symbol']=='NVDA']"
   ]
  },
  {
   "cell_type": "code",
   "execution_count": 26,
   "id": "5aa4cdce",
   "metadata": {
    "execution": {
     "iopub.execute_input": "2021-09-23T20:21:50.413718Z",
     "iopub.status.busy": "2021-09-23T20:21:50.413159Z",
     "iopub.status.idle": "2021-09-23T20:21:50.415238Z",
     "shell.execute_reply": "2021-09-23T20:21:50.415658Z",
     "shell.execute_reply.started": "2021-09-23T19:58:10.345981Z"
    },
    "papermill": {
     "duration": 0.037397,
     "end_time": "2021-09-23T20:21:50.415809",
     "exception": false,
     "start_time": "2021-09-23T20:21:50.378412",
     "status": "completed"
    },
    "tags": []
   },
   "outputs": [
    {
     "data": {
      "text/plain": [
       "1120.0504413619167"
      ]
     },
     "execution_count": 26,
     "metadata": {},
     "output_type": "execute_result"
    }
   ],
   "source": [
    "# Percentage Gain\n",
    "((193.5-15.86)/15.86)*100"
   ]
  },
  {
   "cell_type": "markdown",
   "id": "a789f991",
   "metadata": {
    "papermill": {
     "duration": 0.030203,
     "end_time": "2021-09-23T20:21:50.475948",
     "exception": false,
     "start_time": "2021-09-23T20:21:50.445745",
     "status": "completed"
    },
    "tags": []
   },
   "source": [
    "**NVDA had an 1120% gain from 1/2/2014 - 12/29/2017.**"
   ]
  },
  {
   "cell_type": "markdown",
   "id": "c5ed6667",
   "metadata": {
    "papermill": {
     "duration": 0.029758,
     "end_time": "2021-09-23T20:21:50.535727",
     "exception": false,
     "start_time": "2021-09-23T20:21:50.505969",
     "status": "completed"
    },
    "tags": []
   },
   "source": [
    "# Final Analysis"
   ]
  },
  {
   "cell_type": "markdown",
   "id": "cb93f0c5",
   "metadata": {
    "papermill": {
     "duration": 0.029663,
     "end_time": "2021-09-23T20:21:50.595162",
     "exception": false,
     "start_time": "2021-09-23T20:21:50.565499",
     "status": "completed"
    },
    "tags": []
   },
   "source": [
    "**1. 2015-08-24 saw the largest overall trading volume. 24th August, 2015 was the day of the 'flash crash'. World stock markets were down substantially. This is probably why this day has the largest overall trading volume. BAC and AAPL were the two most traded stocks of the day.**\n",
    "\n",
    "**2. Volume tends to be highest on Fridays and lowest on Mondays. Monday is the first day of the week so factors such as investors' moods being gloomy on going back to work and due to the large amounts of bad news released in the weekends cause people to trade less on this day.**\n",
    "\n",
    "**3. Amazon saw the most volatility on 2017-06-09. It was a Friday and as it was the last day of the week, people might have sold more shares than purchased, so price fell substantially. We can tell this as the lowest price that day was much lower than lowest price of previous day whereas highest price was quite the same.**\n",
    "\n",
    "**4. NVIDIA's closing price on 1/2/2014 was only 15.86 and it's closing price on 12/29/2017 was 193.5. I am unsure if these prices are really accurate but according to the dataset, in about 6 years, the percentage gain was colossal (1120%). Also, NVIDIA is one of the largest GPU creators in the world. So if anyone had the ability to go back in time, they should really consider investing in this stock.**"
   ]
  }
 ],
 "metadata": {
  "kernelspec": {
   "display_name": "Python 3",
   "language": "python",
   "name": "python3"
  },
  "language_info": {
   "codemirror_mode": {
    "name": "ipython",
    "version": 3
   },
   "file_extension": ".py",
   "mimetype": "text/x-python",
   "name": "python",
   "nbconvert_exporter": "python",
   "pygments_lexer": "ipython3",
   "version": "3.7.10"
  },
  "papermill": {
   "default_parameters": {},
   "duration": 11.661993,
   "end_time": "2021-09-23T20:21:51.759870",
   "environment_variables": {},
   "exception": null,
   "input_path": "__notebook__.ipynb",
   "output_path": "__notebook__.ipynb",
   "parameters": {},
   "start_time": "2021-09-23T20:21:40.097877",
   "version": "2.3.3"
  }
 },
 "nbformat": 4,
 "nbformat_minor": 5
}
